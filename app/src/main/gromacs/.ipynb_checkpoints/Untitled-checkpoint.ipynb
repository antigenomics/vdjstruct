{
 "cells": [
  {
   "cell_type": "code",
   "execution_count": 244,
   "metadata": {
    "collapsed": false
   },
   "outputs": [],
   "source": [
    "from Bio.PDB import Polypeptide\n",
    "import gromacs.cbook"
   ]
  },
  {
   "cell_type": "code",
   "execution_count": 238,
   "metadata": {
    "collapsed": false
   },
   "outputs": [],
   "source": [
    "def parseGro(f):\n",
    "    \n",
    "    fp = open(f, 'r')\n",
    "    pp = list(fp)\n",
    "    res = ''\n",
    "    atlist = []\n",
    "    aas = []\n",
    "    prevnum = 0\n",
    "    for i in range(2, len(pp)):\n",
    "        line = list(pp)[i].split()\n",
    "        num = int(line[0][:-3])\n",
    "        aa = line[0][-3:]\n",
    "        \n",
    "        if not Polypeptide.is_aa(aa):\n",
    "            break;\n",
    "            \n",
    "        shortaa = Polypeptide.three_to_one(aa)\n",
    "        if (num != prevnum):\n",
    "            atlist.append(i - 1)\n",
    "            aas.append(aa + '_' + str(num))\n",
    "            prevnum = num\n",
    "            res = res + shortaa\n",
    "            \n",
    "    fp.close()\n",
    "    return res, atlist, aas"
   ]
  },
  {
   "cell_type": "code",
   "execution_count": 239,
   "metadata": {
    "collapsed": true
   },
   "outputs": [],
   "source": [
    "def findSeqsInGro(seq, pep, cdr3_a, cdr3_b):\n",
    "    pbeg = seq.find(pep) + 1\n",
    "    pend = pbeg + len(pep) - 1\n",
    "    abeg = seq.find(cdr3_a) + 1\n",
    "    aend = abeg + len(cdr3_a) - 1\n",
    "    bbeg = seq.find(cdr3_b) + 1\n",
    "    bend = bbeg + len(cdr3_b) - 1\n",
    "    return [pbeg, pend], [abeg, aend], [bbeg, bend]"
   ]
  },
  {
   "cell_type": "code",
   "execution_count": 240,
   "metadata": {
    "collapsed": true
   },
   "outputs": [],
   "source": [
    "def appendSeqs(path, idlist, atlist, aas):\n",
    "    fl = open(path, 'a')\n",
    "    groups = gromacs.cbook.get_ndx_groups(path)\n",
    "    names = []\n",
    "    for pair in idlist:\n",
    "        for aaid in range(pair[0] - 1, pair[1]):\n",
    "            name = 'r_' + str(pair[0]) + '-' + str(pair[1]) + '_' + aas[aaid]\n",
    "            names.append(name)\n",
    "            if any(group['name'] == name for group in groups):\n",
    "                continue\n",
    "            fl.write('[ ' + name + ' ]\\n')\n",
    "            for item in range(atlist[aaid], atlist[aaid + 1]):\n",
    "                fl.write(str(item) + ' ')\n",
    "            fl.write('\\n')\n",
    "    fl.close()\n",
    "    return names"
   ]
  },
  {
   "cell_type": "code",
   "execution_count": 241,
   "metadata": {
    "collapsed": true
   },
   "outputs": [],
   "source": [
    "def appendToMDP(path, grnames):\n",
    "    replaceText = 'energygrps\\t='\n",
    "    for name in grnames:\n",
    "        replaceText = replaceText + ' ' + name\n",
    "    replaceText = replaceText + '\\n'\n",
    "    \n",
    "    fl = open(path, 'r')\n",
    "    text = fl.read()\n",
    "    fl.close()\n",
    "    \n",
    "    fl = open(path, 'r')\n",
    "    s = ''\n",
    "    for line in fl:\n",
    "        if line.split()[0] == 'energygrps':\n",
    "            s = line\n",
    "            break\n",
    "    fl.close()\n",
    "    \n",
    "    fl = open(path, 'w')\n",
    "    if not s:\n",
    "        fl.write(text + replaceText)\n",
    "    else:\n",
    "        fl.write(text.replace(s, replaceText))\n",
    "    fl.close()"
   ]
  },
  {
   "cell_type": "code",
   "execution_count": 242,
   "metadata": {
    "collapsed": true
   },
   "outputs": [],
   "source": [
    "def appendToGroupsDat(path, names):\n",
    "    fl = open(path, 'w')\n",
    "    fl.write(str(len(names)) + '\\n')\n",
    "    for name in names:\n",
    "        fl.write(name + '\\n')"
   ]
  },
  {
   "cell_type": "code",
   "execution_count": 243,
   "metadata": {
    "collapsed": true
   },
   "outputs": [],
   "source": [
    "def appendSeqs(path, idlist, atlist):\n",
    "    fl = open(path, 'a')\n",
    "    groups = gromacs.cbook.get_ndx_groups(path)\n",
    "    for pair in idlist:\n",
    "        name = 'r_' + str(pair[0]) + '-' + str(pair[1])\n",
    "        if any(group['name'] == name for group in groups):\n",
    "            continue\n",
    "        fl.write('[ ' + name + ' ]\\n')\n",
    "        for item in range(atlist[pair[0] - 1], atlist[pair[1]]):\n",
    "            fl.write(str(item) + ' ')\n",
    "        fl.write('\\n')\n",
    "    fl.close()"
   ]
  },
  {
   "cell_type": "code",
   "execution_count": 212,
   "metadata": {
    "collapsed": false
   },
   "outputs": [
    {
     "ename": "KeyboardInterrupt",
     "evalue": "",
     "output_type": "error",
     "traceback": [
      "\u001b[1;31m---------------------------------------------------------------------------\u001b[0m",
      "\u001b[1;31mKeyboardInterrupt\u001b[0m                         Traceback (most recent call last)",
      "\u001b[1;32m<ipython-input-212-b58310bbaba2>\u001b[0m in \u001b[0;36m<module>\u001b[1;34m()\u001b[0m\n\u001b[1;32m----> 1\u001b[1;33m \u001b[0mst\u001b[0m\u001b[1;33m,\u001b[0m \u001b[0matlist\u001b[0m\u001b[1;33m,\u001b[0m \u001b[0maas\u001b[0m \u001b[1;33m=\u001b[0m \u001b[0mparseGro\u001b[0m\u001b[1;33m(\u001b[0m\u001b[1;34m'2bnr_solv_ions.gro'\u001b[0m\u001b[1;33m)\u001b[0m\u001b[1;33m\u001b[0m\u001b[0m\n\u001b[0m",
      "\u001b[1;32m<ipython-input-206-5ef7c9ed838a>\u001b[0m in \u001b[0;36mparseGro\u001b[1;34m(f)\u001b[0m\n\u001b[0;32m      8\u001b[0m     \u001b[0mprevnum\u001b[0m \u001b[1;33m=\u001b[0m \u001b[1;36m0\u001b[0m\u001b[1;33m\u001b[0m\u001b[0m\n\u001b[0;32m      9\u001b[0m     \u001b[1;32mfor\u001b[0m \u001b[0mi\u001b[0m \u001b[1;32min\u001b[0m \u001b[0mrange\u001b[0m\u001b[1;33m(\u001b[0m\u001b[1;36m2\u001b[0m\u001b[1;33m,\u001b[0m \u001b[0mlen\u001b[0m\u001b[1;33m(\u001b[0m\u001b[0mpp\u001b[0m\u001b[1;33m)\u001b[0m\u001b[1;33m)\u001b[0m\u001b[1;33m:\u001b[0m\u001b[1;33m\u001b[0m\u001b[0m\n\u001b[1;32m---> 10\u001b[1;33m         \u001b[0mline\u001b[0m \u001b[1;33m=\u001b[0m \u001b[0mlist\u001b[0m\u001b[1;33m(\u001b[0m\u001b[0mpp\u001b[0m\u001b[1;33m)\u001b[0m\u001b[1;33m[\u001b[0m\u001b[0mi\u001b[0m\u001b[1;33m]\u001b[0m\u001b[1;33m.\u001b[0m\u001b[0msplit\u001b[0m\u001b[1;33m(\u001b[0m\u001b[1;33m)\u001b[0m\u001b[1;33m\u001b[0m\u001b[0m\n\u001b[0m\u001b[0;32m     11\u001b[0m         \u001b[0mnum\u001b[0m \u001b[1;33m=\u001b[0m \u001b[0mint\u001b[0m\u001b[1;33m(\u001b[0m\u001b[0mline\u001b[0m\u001b[1;33m[\u001b[0m\u001b[1;36m0\u001b[0m\u001b[1;33m]\u001b[0m\u001b[1;33m[\u001b[0m\u001b[1;33m:\u001b[0m\u001b[1;33m-\u001b[0m\u001b[1;36m3\u001b[0m\u001b[1;33m]\u001b[0m\u001b[1;33m)\u001b[0m\u001b[1;33m\u001b[0m\u001b[0m\n\u001b[0;32m     12\u001b[0m         \u001b[0maa\u001b[0m \u001b[1;33m=\u001b[0m \u001b[0mline\u001b[0m\u001b[1;33m[\u001b[0m\u001b[1;36m0\u001b[0m\u001b[1;33m]\u001b[0m\u001b[1;33m[\u001b[0m\u001b[1;33m-\u001b[0m\u001b[1;36m3\u001b[0m\u001b[1;33m:\u001b[0m\u001b[1;33m]\u001b[0m\u001b[1;33m\u001b[0m\u001b[0m\n",
      "\u001b[1;31mKeyboardInterrupt\u001b[0m: "
     ]
    }
   ],
   "source": [
    "st, atlist, aas = parseGro('2bnr_solv_ions.gro')"
   ]
  },
  {
   "cell_type": "code",
   "execution_count": 225,
   "metadata": {
    "collapsed": false
   },
   "outputs": [],
   "source": [
    "p, a, b = findSeqsInGro(st, 'SLLMWITQC', 'CAVRPTSGGSYIPTF', 'CASSYVGNTGELFF')"
   ]
  },
  {
   "cell_type": "code",
   "execution_count": 226,
   "metadata": {
    "collapsed": false
   },
   "outputs": [],
   "source": [
    "names = appendSeqs('index.ndx', [p, a, b], atlist, aas)"
   ]
  },
  {
   "cell_type": "code",
   "execution_count": 227,
   "metadata": {
    "collapsed": false
   },
   "outputs": [
    {
     "name": "stdout",
     "output_type": "stream",
     "text": [
      "['r_377-385_SER_1', 'r_377-385_LEU_2', 'r_377-385_LEU_3', 'r_377-385_MET_4', 'r_377-385_TRP_5', 'r_377-385_ILE_6', 'r_377-385_THR_7', 'r_377-385_GLN_8', 'r_377-385_CYS_9', 'r_474-488_CYS_90', 'r_474-488_ALA_91', 'r_474-488_VAL_92', 'r_474-488_ARG_93', 'r_474-488_PRO_94', 'r_474-488_THR_95', 'r_474-488_SER_96', 'r_474-488_GLY_97', 'r_474-488_GLY_98', 'r_474-488_SER_99', 'r_474-488_TYR_100', 'r_474-488_ILE_101', 'r_474-488_PRO_102', 'r_474-488_THR_103', 'r_474-488_PHE_104', 'r_677-690_CYS_90', 'r_677-690_ALA_91', 'r_677-690_SER_92', 'r_677-690_SER_93', 'r_677-690_TYR_94', 'r_677-690_VAL_95', 'r_677-690_GLY_96', 'r_677-690_ASN_97', 'r_677-690_THR_98', 'r_677-690_GLY_99', 'r_677-690_GLU_100', 'r_677-690_LEU_101', 'r_677-690_PHE_102', 'r_677-690_PHE_103']\n"
     ]
    }
   ],
   "source": [
    "#print names"
   ]
  },
  {
   "cell_type": "code",
   "execution_count": 233,
   "metadata": {
    "collapsed": false
   },
   "outputs": [],
   "source": [
    "appendToMDP('minim.mdp', names)"
   ]
  },
  {
   "cell_type": "code",
   "execution_count": 236,
   "metadata": {
    "collapsed": true
   },
   "outputs": [],
   "source": [
    "appendToGroupsDat('groups.dat', names)"
   ]
  }
 ],
 "metadata": {
  "kernelspec": {
   "display_name": "Python 2",
   "language": "python",
   "name": "python2"
  },
  "language_info": {
   "codemirror_mode": {
    "name": "ipython",
    "version": 2
   },
   "file_extension": ".py",
   "mimetype": "text/x-python",
   "name": "python",
   "nbconvert_exporter": "python",
   "pygments_lexer": "ipython2",
   "version": "2.7.10"
  }
 },
 "nbformat": 4,
 "nbformat_minor": 0
}
