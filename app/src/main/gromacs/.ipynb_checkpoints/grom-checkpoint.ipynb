{
 "cells": [
  {
   "cell_type": "code",
   "execution_count": 3,
   "metadata": {
    "collapsed": false
   },
   "outputs": [],
   "source": [
    "from Bio.PDB import Polypeptide\n",
    "import gromacs.cbook"
   ]
  },
  {
   "cell_type": "code",
   "execution_count": 4,
   "metadata": {
    "collapsed": false
   },
   "outputs": [],
   "source": [
    "def parseGro(f):\n",
    "    \n",
    "    fp = open(f, 'r')\n",
    "    pp = list(fp)\n",
    "    res = ''\n",
    "    atlist = []\n",
    "    aas = []\n",
    "    prevnum = 0\n",
    "    for i in range(2, len(pp)):\n",
    "        line = list(pp)[i].split()\n",
    "        num = int(line[0][:-3])\n",
    "        aa = line[0][-3:]\n",
    "        \n",
    "        if not Polypeptide.is_aa(aa):\n",
    "            break;\n",
    "            \n",
    "        shortaa = Polypeptide.three_to_one(aa)\n",
    "        if (num != prevnum):\n",
    "            atlist.append(i - 1)\n",
    "            aas.append(aa + '_' + str(num))\n",
    "            prevnum = num\n",
    "            res = res + shortaa\n",
    "            \n",
    "    fp.close()\n",
    "    return res, atlist, aas"
   ]
  },
  {
   "cell_type": "code",
   "execution_count": 5,
   "metadata": {
    "collapsed": true
   },
   "outputs": [],
   "source": [
    "def findSeqsInGro(seq, pep, cdr3_a, cdr3_b):\n",
    "    pbeg = seq.find(pep) + 1\n",
    "    pend = pbeg + len(pep) - 1\n",
    "    abeg = seq.find(cdr3_a) + 1\n",
    "    aend = abeg + len(cdr3_a) - 1\n",
    "    bbeg = seq.find(cdr3_b) + 1\n",
    "    bend = bbeg + len(cdr3_b) - 1\n",
    "    return [pbeg, pend], [abeg, aend], [bbeg, bend]"
   ]
  },
  {
   "cell_type": "code",
   "execution_count": 6,
   "metadata": {
    "collapsed": true
   },
   "outputs": [],
   "source": [
    "def appendSeqs(path, idlist, atlist, aas):\n",
    "    fl = open(path, 'a')\n",
    "    groups = gromacs.cbook.get_ndx_groups(path)\n",
    "    names = []\n",
    "    for pair in idlist:\n",
    "        for aaid in range(pair[0] - 1, pair[1]):\n",
    "            name = 'r_' + str(pair[0]) + '-' + str(pair[1]) + '_' + aas[aaid]\n",
    "            names.append(name)\n",
    "            if any(group['name'] == name for group in groups):\n",
    "                continue\n",
    "            fl.write('[ ' + name + ' ]\\n')\n",
    "            for item in range(atlist[aaid], atlist[aaid + 1]):\n",
    "                fl.write(str(item) + ' ')\n",
    "            fl.write('\\n')\n",
    "    fl.close()\n",
    "    return names"
   ]
  },
  {
   "cell_type": "code",
   "execution_count": 7,
   "metadata": {
    "collapsed": true
   },
   "outputs": [],
   "source": [
    "def appendToMDP(path, grnames):\n",
    "    replaceText = 'energygrps\\t='\n",
    "    for name in grnames:\n",
    "        replaceText = replaceText + ' ' + name\n",
    "    replaceText = replaceText + '\\n'\n",
    "    \n",
    "    fl = open(path, 'r')\n",
    "    text = fl.read()\n",
    "    fl.close()\n",
    "    \n",
    "    fl = open(path, 'r')\n",
    "    s = ''\n",
    "    for line in fl:\n",
    "        if line.split()[0] == 'energygrps':\n",
    "            s = line\n",
    "            break\n",
    "    fl.close()\n",
    "    \n",
    "    fl = open(path, 'w')\n",
    "    if not s:\n",
    "        fl.write(text + replaceText)\n",
    "    else:\n",
    "        fl.write(text.replace(s, replaceText))\n",
    "    fl.close()"
   ]
  },
  {
   "cell_type": "code",
   "execution_count": 8,
   "metadata": {
    "collapsed": true
   },
   "outputs": [],
   "source": [
    "def appendToGroupsDat(path, names):\n",
    "    fl = open(path, 'w')\n",
    "    fl.write(str(len(names)) + '\\n')\n",
    "    for name in names:\n",
    "        fl.write(name + '\\n')"
   ]
  },
  {
   "cell_type": "code",
   "execution_count": 29,
   "metadata": {
    "collapsed": true
   },
   "outputs": [],
   "source": [
    "def appendSeqs(path, idlist, atlist, aas):\n",
    "    fl = open(path, 'a')\n",
    "    groups = gromacs.cbook.get_ndx_groups(path)\n",
    "    names = []\n",
    "    for pair in idlist:\n",
    "        for aa in range(pair[0] - 1, pair[1]):\n",
    "            name = 'r_' + str(pair[0]) + '-' + str(pair[1]) + '_' + aas[aa]\n",
    "            names.append(name)\n",
    "            if any(group['name'] == name for group in groups):\n",
    "                continue\n",
    "            fl.write('[ ' + name + ' ]\\n')\n",
    "            for atom in range(atlist[aa], atlist[aa + 1]):\n",
    "                fl.write(str(atom) + ' ')\n",
    "            fl.write('\\n')\n",
    "    fl.close()\n",
    "    return names"
   ]
  },
  {
   "cell_type": "code",
   "execution_count": 22,
   "metadata": {
    "collapsed": false
   },
   "outputs": [
    {
     "ename": "KeyboardInterrupt",
     "evalue": "",
     "output_type": "error",
     "traceback": [
      "\u001b[1;31m---------------------------------------------------------------------------\u001b[0m",
      "\u001b[1;31mKeyboardInterrupt\u001b[0m                         Traceback (most recent call last)",
      "\u001b[1;32m<ipython-input-22-82b4e1592f2c>\u001b[0m in \u001b[0;36m<module>\u001b[1;34m()\u001b[0m\n\u001b[1;32m----> 1\u001b[1;33m \u001b[0mst\u001b[0m\u001b[1;33m,\u001b[0m \u001b[0matlist\u001b[0m\u001b[1;33m,\u001b[0m \u001b[0maas\u001b[0m \u001b[1;33m=\u001b[0m \u001b[0mparseGro\u001b[0m\u001b[1;33m(\u001b[0m\u001b[1;34m'2bnr.gro'\u001b[0m\u001b[1;33m)\u001b[0m\u001b[1;33m\u001b[0m\u001b[0m\n\u001b[0m",
      "\u001b[1;32m<ipython-input-4-5ef7c9ed838a>\u001b[0m in \u001b[0;36mparseGro\u001b[1;34m(f)\u001b[0m\n\u001b[0;32m      8\u001b[0m     \u001b[0mprevnum\u001b[0m \u001b[1;33m=\u001b[0m \u001b[1;36m0\u001b[0m\u001b[1;33m\u001b[0m\u001b[0m\n\u001b[0;32m      9\u001b[0m     \u001b[1;32mfor\u001b[0m \u001b[0mi\u001b[0m \u001b[1;32min\u001b[0m \u001b[0mrange\u001b[0m\u001b[1;33m(\u001b[0m\u001b[1;36m2\u001b[0m\u001b[1;33m,\u001b[0m \u001b[0mlen\u001b[0m\u001b[1;33m(\u001b[0m\u001b[0mpp\u001b[0m\u001b[1;33m)\u001b[0m\u001b[1;33m)\u001b[0m\u001b[1;33m:\u001b[0m\u001b[1;33m\u001b[0m\u001b[0m\n\u001b[1;32m---> 10\u001b[1;33m         \u001b[0mline\u001b[0m \u001b[1;33m=\u001b[0m \u001b[0mlist\u001b[0m\u001b[1;33m(\u001b[0m\u001b[0mpp\u001b[0m\u001b[1;33m)\u001b[0m\u001b[1;33m[\u001b[0m\u001b[0mi\u001b[0m\u001b[1;33m]\u001b[0m\u001b[1;33m.\u001b[0m\u001b[0msplit\u001b[0m\u001b[1;33m(\u001b[0m\u001b[1;33m)\u001b[0m\u001b[1;33m\u001b[0m\u001b[0m\n\u001b[0m\u001b[0;32m     11\u001b[0m         \u001b[0mnum\u001b[0m \u001b[1;33m=\u001b[0m \u001b[0mint\u001b[0m\u001b[1;33m(\u001b[0m\u001b[0mline\u001b[0m\u001b[1;33m[\u001b[0m\u001b[1;36m0\u001b[0m\u001b[1;33m]\u001b[0m\u001b[1;33m[\u001b[0m\u001b[1;33m:\u001b[0m\u001b[1;33m-\u001b[0m\u001b[1;36m3\u001b[0m\u001b[1;33m]\u001b[0m\u001b[1;33m)\u001b[0m\u001b[1;33m\u001b[0m\u001b[0m\n\u001b[0;32m     12\u001b[0m         \u001b[0maa\u001b[0m \u001b[1;33m=\u001b[0m \u001b[0mline\u001b[0m\u001b[1;33m[\u001b[0m\u001b[1;36m0\u001b[0m\u001b[1;33m]\u001b[0m\u001b[1;33m[\u001b[0m\u001b[1;33m-\u001b[0m\u001b[1;36m3\u001b[0m\u001b[1;33m:\u001b[0m\u001b[1;33m]\u001b[0m\u001b[1;33m\u001b[0m\u001b[0m\n",
      "\u001b[1;31mKeyboardInterrupt\u001b[0m: "
     ]
    }
   ],
   "source": [
    "st, atlist, aas = parseGro('2bnr.gro')"
   ]
  },
  {
   "cell_type": "code",
   "execution_count": 30,
   "metadata": {
    "collapsed": false
   },
   "outputs": [],
   "source": [
    "p, a, b = findSeqsInGro(st, 'SLLMWITQC', 'CAVRPTSGGSYIPTF', 'CASSYVGNTGELFF')"
   ]
  },
  {
   "cell_type": "code",
   "execution_count": 31,
   "metadata": {
    "collapsed": false
   },
   "outputs": [
    {
     "data": {
      "text/plain": [
       "[377, 385]"
      ]
     },
     "execution_count": 31,
     "metadata": {},
     "output_type": "execute_result"
    }
   ],
   "source": [
    "p"
   ]
  },
  {
   "cell_type": "code",
   "execution_count": 32,
   "metadata": {
    "collapsed": false
   },
   "outputs": [],
   "source": [
    "names = appendSeqs('index.ndx', [p, a, b], atlist, aas)"
   ]
  },
  {
   "cell_type": "code",
   "execution_count": 33,
   "metadata": {
    "collapsed": false
   },
   "outputs": [],
   "source": [
    "#print names"
   ]
  },
  {
   "cell_type": "code",
   "execution_count": 34,
   "metadata": {
    "collapsed": false
   },
   "outputs": [
    {
     "ename": "IOError",
     "evalue": "[Errno 2] No such file or directory: 'minim.mdp'",
     "output_type": "error",
     "traceback": [
      "\u001b[1;31m---------------------------------------------------------------------------\u001b[0m",
      "\u001b[1;31mIOError\u001b[0m                                   Traceback (most recent call last)",
      "\u001b[1;32m<ipython-input-34-9c21605ed9ce>\u001b[0m in \u001b[0;36m<module>\u001b[1;34m()\u001b[0m\n\u001b[1;32m----> 1\u001b[1;33m \u001b[0mappendToMDP\u001b[0m\u001b[1;33m(\u001b[0m\u001b[1;34m'minim.mdp'\u001b[0m\u001b[1;33m,\u001b[0m \u001b[0mnames\u001b[0m\u001b[1;33m)\u001b[0m\u001b[1;33m\u001b[0m\u001b[0m\n\u001b[0m",
      "\u001b[1;32m<ipython-input-7-2fe127abda47>\u001b[0m in \u001b[0;36mappendToMDP\u001b[1;34m(path, grnames)\u001b[0m\n\u001b[0;32m      5\u001b[0m     \u001b[0mreplaceText\u001b[0m \u001b[1;33m=\u001b[0m \u001b[0mreplaceText\u001b[0m \u001b[1;33m+\u001b[0m \u001b[1;34m'\\n'\u001b[0m\u001b[1;33m\u001b[0m\u001b[0m\n\u001b[0;32m      6\u001b[0m \u001b[1;33m\u001b[0m\u001b[0m\n\u001b[1;32m----> 7\u001b[1;33m     \u001b[0mfl\u001b[0m \u001b[1;33m=\u001b[0m \u001b[0mopen\u001b[0m\u001b[1;33m(\u001b[0m\u001b[0mpath\u001b[0m\u001b[1;33m,\u001b[0m \u001b[1;34m'r'\u001b[0m\u001b[1;33m)\u001b[0m\u001b[1;33m\u001b[0m\u001b[0m\n\u001b[0m\u001b[0;32m      8\u001b[0m     \u001b[0mtext\u001b[0m \u001b[1;33m=\u001b[0m \u001b[0mfl\u001b[0m\u001b[1;33m.\u001b[0m\u001b[0mread\u001b[0m\u001b[1;33m(\u001b[0m\u001b[1;33m)\u001b[0m\u001b[1;33m\u001b[0m\u001b[0m\n\u001b[0;32m      9\u001b[0m     \u001b[0mfl\u001b[0m\u001b[1;33m.\u001b[0m\u001b[0mclose\u001b[0m\u001b[1;33m(\u001b[0m\u001b[1;33m)\u001b[0m\u001b[1;33m\u001b[0m\u001b[0m\n",
      "\u001b[1;31mIOError\u001b[0m: [Errno 2] No such file or directory: 'minim.mdp'"
     ]
    }
   ],
   "source": [
    "appendToMDP('minim.mdp', names)"
   ]
  },
  {
   "cell_type": "code",
   "execution_count": 236,
   "metadata": {
    "collapsed": true
   },
   "outputs": [],
   "source": [
    "appendToGroupsDat('groups.dat', names)"
   ]
  }
 ],
 "metadata": {
  "kernelspec": {
   "display_name": "Python 2",
   "language": "python",
   "name": "python2"
  },
  "language_info": {
   "codemirror_mode": {
    "name": "ipython",
    "version": 2
   },
   "file_extension": ".py",
   "mimetype": "text/x-python",
   "name": "python",
   "nbconvert_exporter": "python",
   "pygments_lexer": "ipython2",
   "version": "2.7.10"
  }
 },
 "nbformat": 4,
 "nbformat_minor": 0
}
