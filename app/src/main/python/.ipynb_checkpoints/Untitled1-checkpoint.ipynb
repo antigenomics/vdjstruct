{
 "cells": [
  {
   "cell_type": "code",
   "execution_count": 15,
   "metadata": {
    "collapsed": true
   },
   "outputs": [],
   "source": []
  },
  {
   "cell_type": "code",
   "execution_count": 108,
   "metadata": {
    "collapsed": false
   },
   "outputs": [],
   "source": [
    "def extractXPM(path):\n",
    "\txpm = open(path, 'r')\n",
    "\tlines = list(xpm)\n",
    "\txpm.close()\n",
    "\tind = 0\n",
    "\tfor line in lines:\n",
    "\t\tpline = line.split()\n",
    "\t\tif pline[0] == 'static':\n",
    "\t\t    break\n",
    "\t\tind += 1\n",
    "\n",
    "\tind += 1 \n",
    "\tprint lines[ind].split('\"')[0]\n",
    "\tsnum = int(lines[ind].split('\"')[1].split()[3])\n",
    "\tind += 1 \n",
    "\n",
    "\talphabet = {}\n",
    "\twhile(True):\n",
    "\t\tif lines[ind][0] == '/':\n",
    "\t\t    break\n",
    "\t\tpline = lines[ind].split('\"')\n",
    "\t\tcode = pline[1].split()[0]\n",
    "\t\talphabet.update([(code, pline[3])])\n",
    "\t\tind += 1\n",
    "\tind += 2\n",
    "\n",
    "\tmat = []\n",
    "\twhile(True):\n",
    "\t\tif lines[ind][0] == '/':\n",
    "\t\t    break\n",
    "\t\tline = lines[ind].split('\"')[1]\n",
    "\t\tl = []\n",
    "\t\tins = ''\n",
    "\t\tfor i in range(0, len(line)):\n",
    "\t\t    ins += line[i]\n",
    "\t\t    if (i+1)%snum == 0:\n",
    "\t\t\tl.append(float(alphabet[ins]))\n",
    "\t\t\tins = ''\n",
    "\t\tmat.append(l)\n",
    "\t\tind += 1\n",
    "\t\t\n",
    "\tlline = lines[ind]\n",
    "\tannot = lline.replace('/', ' ').replace('*', ' ').split()\n",
    "\tmat = list(reversed(mat))\n",
    "\t\t\n",
    "\ta_mat = []\n",
    "\ta_bs = [len(annot[1]), len(annot[1]) + len(annot[2])]\n",
    "\tfor line in mat[:len(annot[1])]:\n",
    "\t\ta_mat.append(line[a_bs[0]:a_bs[1]])\n",
    "\t\t\n",
    "\tb_mat = []\n",
    "\tb_bs = [a_bs[1], a_bs[1] + len(annot[3])]\n",
    "\tfor line in mat[:len(annot[1])]:\n",
    "\t\tb_mat.append(line[b_bs[0]:b_bs[1]])\n",
    "\t\t\n",
    "\treturn a_mat, b_mat, annot"
   ]
  },
  {
   "cell_type": "code",
   "execution_count": 109,
   "metadata": {
    "collapsed": false
   },
   "outputs": [
    {
     "name": "stdout",
     "output_type": "stream",
     "text": [
      "\n"
     ]
    },
    {
     "data": {
      "text/plain": [
       "[[0.0, 0.0, 0.0, 0.0, 0.0, 0.0, 0.0, 0.0, 0.0, 0.0, 0.0, 0.0],\n",
       " [0.0, 0.0, 0.0, 0.0, 0.0, 0.0, 0.0, 0.0, 0.0, 0.0, 0.0, 0.0],\n",
       " [0.0, 0.0, 0.0, 0.0, 0.0, 0.0, -2.37, 0.0, 0.0, 0.0, 0.0, 0.0],\n",
       " [0.0, 0.0, 0.0, 0.0, -2.37, -7.11, -7.11, 0.0, 0.0, 0.0, 0.0, 0.0],\n",
       " [0.0, 0.0, 0.0, 0.0, 0.0, -11.8, -26.1, 0.0, 0.0, 0.0, 0.0, 0.0],\n",
       " [0.0, 0.0, 0.0, -54.5, -2.37, -26.1, -19.0, -59.2, -2.37, 0.0, 0.0, 0.0],\n",
       " [0.0, 0.0, 0.0, 0.0, 0.0, 0.0, -2.37, -4.74, 0.0, 0.0, 0.0, 0.0],\n",
       " [0.0, 0.0, 0.0, 0.0, 0.0, 0.0, 32.2, 0.0, 0.0, 0.0, 0.0, 0.0],\n",
       " [0.0, 0.0, 0.0, 0.0, 0.0, 0.0, 0.0, 0.0, 0.0, 0.0, 0.0, 0.0],\n",
       " [0.0, 0.0, 0.0, 0.0, 0.0, 0.0, 0.0, 0.0, 0.0, 0.0, 0.0, 0.0],\n",
       " [0.0, 0.0, 0.0, 0.0, 0.0, 0.0, 0.0, 0.0, 0.0, 0.0, 0.0, 0.0]]"
      ]
     },
     "execution_count": 109,
     "metadata": {},
     "output_type": "execute_result"
    }
   ],
   "source": [
    "a, b, an = extractXPM('total2ypl.xpm')\n",
    "a"
   ]
  },
  {
   "cell_type": "code",
   "execution_count": 106,
   "metadata": {
    "collapsed": false
   },
   "outputs": [
    {
     "name": "stdout",
     "output_type": "stream",
     "text": [
      "11\n",
      "11\n",
      "12\n",
      "12\n",
      "11\n",
      "11\n"
     ]
    }
   ],
   "source": [
    "print len(a)\n",
    "print len(an[1])\n",
    "print len(a[0])\n",
    "print len(an[2])\n",
    "print len(b[0])\n",
    "print len(an[3])"
   ]
  },
  {
   "cell_type": "code",
   "execution_count": 105,
   "metadata": {
    "collapsed": false
   },
   "outputs": [
    {
     "name": "stdout",
     "output_type": "stream",
     "text": [
      "11\n"
     ]
    }
   ],
   "source": [
    "print len(an[1])"
   ]
  },
  {
   "cell_type": "code",
   "execution_count": 63,
   "metadata": {
    "collapsed": false
   },
   "outputs": [
    {
     "data": {
      "text/plain": [
       "[1.0, 2.0, 3.0]"
      ]
     },
     "execution_count": 63,
     "metadata": {},
     "output_type": "execute_result"
    }
   ],
   "source": [
    "[float(i) for i in a]"
   ]
  },
  {
   "cell_type": "code",
   "execution_count": 65,
   "metadata": {
    "collapsed": false
   },
   "outputs": [
    {
     "data": {
      "text/plain": [
       "'3'"
      ]
     },
     "execution_count": 65,
     "metadata": {},
     "output_type": "execute_result"
    }
   ],
   "source": [
    "a[-1]"
   ]
  },
  {
   "cell_type": "code",
   "execution_count": 66,
   "metadata": {
    "collapsed": false
   },
   "outputs": [
    {
     "data": {
      "text/plain": [
       "'2'"
      ]
     },
     "execution_count": 66,
     "metadata": {},
     "output_type": "execute_result"
    }
   ],
   "source": [
    "a[1]"
   ]
  },
  {
   "cell_type": "code",
   "execution_count": 80,
   "metadata": {
    "collapsed": false
   },
   "outputs": [
    {
     "data": {
      "text/plain": [
       "['1', '2']"
      ]
     },
     "execution_count": 80,
     "metadata": {},
     "output_type": "execute_result"
    }
   ],
   "source": [
    "a[-3:-1]"
   ]
  },
  {
   "cell_type": "code",
   "execution_count": null,
   "metadata": {
    "collapsed": true
   },
   "outputs": [],
   "source": []
  }
 ],
 "metadata": {
  "kernelspec": {
   "display_name": "Python 2",
   "language": "python",
   "name": "python2"
  },
  "language_info": {
   "codemirror_mode": {
    "name": "ipython",
    "version": 2
   },
   "file_extension": ".py",
   "mimetype": "text/x-python",
   "name": "python",
   "nbconvert_exporter": "python",
   "pygments_lexer": "ipython2",
   "version": "2.7.10"
  }
 },
 "nbformat": 4,
 "nbformat_minor": 0
}
