{
 "cells": [
  {
   "cell_type": "code",
   "execution_count": 65,
   "metadata": {
    "collapsed": false
   },
   "outputs": [],
   "source": [
    "from Bio.PDB import Polypeptide\n",
    "import gromacs"
   ]
  },
  {
   "cell_type": "code",
   "execution_count": 88,
   "metadata": {
    "collapsed": false
   },
   "outputs": [],
   "source": [
    "def parseGro(f):\n",
    "    \n",
    "    fp = open(f, 'r')\n",
    "    pp = list(fp)\n",
    "    res = ''\n",
    "    atlist = []\n",
    "    aas = []\n",
    "    prevnum = 0\n",
    "    for i in range(2, 1000):\n",
    "        line = pp[i].split()\n",
    "        num = int(line[0][:-3])\n",
    "        aa = line[0][-3:]\n",
    "        \n",
    "        if not Polypeptide.is_aa(aa):\n",
    "            break;\n",
    "            \n",
    "        shortaa = Polypeptide.three_to_one(aa)\n",
    "        if (num != prevnum):\n",
    "            atlist.append(i - 1)\n",
    "            aas.append(aa + '_' + str(num))\n",
    "            prevnum = num\n",
    "            res = res + shortaa\n",
    "            \n",
    "    fp.close()\n",
    "    return res, atlist, aas"
   ]
  },
  {
   "cell_type": "code",
   "execution_count": 67,
   "metadata": {
    "collapsed": true
   },
   "outputs": [],
   "source": [
    "def findSeqsInGro(seq, pep, cdr3_a, cdr3_b):\n",
    "    pbeg = seq.find(pep) + 1\n",
    "    pend = pbeg + len(pep) - 1\n",
    "    abeg = seq.find(cdr3_a) + 1\n",
    "    aend = abeg + len(cdr3_a) - 1\n",
    "    bbeg = seq.find(cdr3_b) + 1\n",
    "    bend = bbeg + len(cdr3_b) - 1\n",
    "    return [pbeg, pend], [abeg, aend], [bbeg, bend]"
   ]
  },
  {
   "cell_type": "code",
   "execution_count": 68,
   "metadata": {
    "collapsed": true
   },
   "outputs": [],
   "source": [
    "def appendSeqs(path, idlist, atlist, aas):\n",
    "    fl = open(path, 'a')\n",
    "    groups = gromacs.cbook.get_ndx_groups(path)\n",
    "    names = []\n",
    "    for pair in idlist:\n",
    "        for aaid in range(pair[0] - 1, pair[1]):\n",
    "            name = 'r_' + str(pair[0]) + '-' + str(pair[1]) + '_' + aas[aaid]\n",
    "            names.append(name)\n",
    "            if any(group['name'] == name for group in groups):\n",
    "                continue\n",
    "            fl.write('[ ' + name + ' ]\\n')\n",
    "            for item in range(atlist[aaid], atlist[aaid + 1]):\n",
    "                fl.write(str(item) + ' ')\n",
    "            fl.write('\\n')\n",
    "    fl.close()\n",
    "    return names"
   ]
  },
  {
   "cell_type": "code",
   "execution_count": 69,
   "metadata": {
    "collapsed": true
   },
   "outputs": [],
   "source": [
    "def appendToMDP(path, grnames):\n",
    "    replaceText = 'energygrps\\t='\n",
    "    for name in grnames:\n",
    "        replaceText = replaceText + ' ' + name\n",
    "    replaceText = replaceText + '\\n'\n",
    "    \n",
    "    fl = open(path, 'r')\n",
    "    text = fl.read()\n",
    "    fl.close()\n",
    "    \n",
    "    fl = open(path, 'r')\n",
    "    s = ''\n",
    "    for line in fl:\n",
    "        if line.split()[0] == 'energygrps':\n",
    "            s = line\n",
    "            break\n",
    "    fl.close()\n",
    "    \n",
    "    fl = open(path, 'w')\n",
    "    if not s:\n",
    "        fl.write(text + replaceText)\n",
    "    else:\n",
    "        fl.write(text.replace(s, replaceText))\n",
    "    fl.close()"
   ]
  },
  {
   "cell_type": "code",
   "execution_count": 70,
   "metadata": {
    "collapsed": true
   },
   "outputs": [],
   "source": [
    "def appendToGroupsDat(path, names):\n",
    "    fl = open(path, 'w')\n",
    "    fl.write(str(len(names)) + '\\n')\n",
    "    for name in names:\n",
    "        fl.write(name + '\\n')"
   ]
  },
  {
   "cell_type": "code",
   "execution_count": 71,
   "metadata": {
    "collapsed": false
   },
   "outputs": [],
   "source": [
    "st, atlist, aas = parseGro('2bnr.gro')"
   ]
  },
  {
   "cell_type": "code",
   "execution_count": 87,
   "metadata": {
    "collapsed": true
   },
   "outputs": [],
   "source": [
    "#parseGro('2bnr.gro')"
   ]
  },
  {
   "cell_type": "code",
   "execution_count": 72,
   "metadata": {
    "collapsed": false
   },
   "outputs": [],
   "source": [
    "p, a, b = findSeqsInGro(st, 'SLLMWITQC', 'CAVRPTSGGSYIPTF', 'CASSYVGNTGELFF')"
   ]
  },
  {
   "cell_type": "code",
   "execution_count": 73,
   "metadata": {
    "collapsed": false
   },
   "outputs": [],
   "source": [
    "names = appendSeqs('index.ndx', [p, a, b], atlist, aas)"
   ]
  },
  {
   "cell_type": "code",
   "execution_count": 74,
   "metadata": {
    "collapsed": false,
    "scrolled": true
   },
   "outputs": [
    {
     "data": {
      "text/plain": [
       "['r_377-385_SER_1',\n",
       " 'r_377-385_LEU_2',\n",
       " 'r_377-385_LEU_3',\n",
       " 'r_377-385_MET_4',\n",
       " 'r_377-385_TRP_5',\n",
       " 'r_377-385_ILE_6',\n",
       " 'r_377-385_THR_7',\n",
       " 'r_377-385_GLN_8',\n",
       " 'r_377-385_CYS_9',\n",
       " 'r_474-488_CYS_90',\n",
       " 'r_474-488_ALA_91',\n",
       " 'r_474-488_VAL_92',\n",
       " 'r_474-488_ARG_93',\n",
       " 'r_474-488_PRO_94',\n",
       " 'r_474-488_THR_95',\n",
       " 'r_474-488_SER_96',\n",
       " 'r_474-488_GLY_97',\n",
       " 'r_474-488_GLY_98',\n",
       " 'r_474-488_SER_99',\n",
       " 'r_474-488_TYR_100',\n",
       " 'r_474-488_ILE_101',\n",
       " 'r_474-488_PRO_102',\n",
       " 'r_474-488_THR_103',\n",
       " 'r_474-488_PHE_104',\n",
       " 'r_677-690_CYS_90',\n",
       " 'r_677-690_ALA_91',\n",
       " 'r_677-690_SER_92',\n",
       " 'r_677-690_SER_93',\n",
       " 'r_677-690_TYR_94',\n",
       " 'r_677-690_VAL_95',\n",
       " 'r_677-690_GLY_96',\n",
       " 'r_677-690_ASN_97',\n",
       " 'r_677-690_THR_98',\n",
       " 'r_677-690_GLY_99',\n",
       " 'r_677-690_GLU_100',\n",
       " 'r_677-690_LEU_101',\n",
       " 'r_677-690_PHE_102',\n",
       " 'r_677-690_PHE_103']"
      ]
     },
     "execution_count": 74,
     "metadata": {},
     "output_type": "execute_result"
    }
   ],
   "source": [
    "names"
   ]
  },
  {
   "cell_type": "code",
   "execution_count": 75,
   "metadata": {
    "collapsed": false
   },
   "outputs": [],
   "source": [
    "appendToMDP('minim.mdp', names)"
   ]
  },
  {
   "cell_type": "code",
   "execution_count": 76,
   "metadata": {
    "collapsed": true
   },
   "outputs": [],
   "source": [
    "appendToGroupsDat('groups.dat', names)"
   ]
  },
  {
   "cell_type": "code",
   "execution_count": 77,
   "metadata": {
    "collapsed": false
   },
   "outputs": [],
   "source": [
    "import gromacs.formats\n",
    "import gromacs.cbook"
   ]
  },
  {
   "cell_type": "code",
   "execution_count": 78,
   "metadata": {
    "collapsed": false
   },
   "outputs": [],
   "source": [
    "G = gromacs.cbook.IndexBuilder('2bnr.gro')\n"
   ]
  },
  {
   "cell_type": "code",
   "execution_count": 82,
   "metadata": {
    "collapsed": false
   },
   "outputs": [
    {
     "data": {
      "text/plain": [
       "('name', '/tmp/name__n9Fj4k.ndx')"
      ]
     },
     "execution_count": 82,
     "metadata": {},
     "output_type": "execute_result"
    }
   ],
   "source": [
    "G._process_command('l', 'name')"
   ]
  },
  {
   "cell_type": "code",
   "execution_count": 24,
   "metadata": {
    "collapsed": false
   },
   "outputs": [],
   "source": [
    "d = {'n' : 23, 'f' : 43}"
   ]
  },
  {
   "cell_type": "code",
   "execution_count": 80,
   "metadata": {
    "collapsed": false
   },
   "outputs": [
    {
     "data": {
      "text/plain": [
       "'index.ndx'"
      ]
     },
     "execution_count": 80,
     "metadata": {},
     "output_type": "execute_result"
    }
   ],
   "source": [
    "G.cat('index.ndx')"
   ]
  },
  {
   "cell_type": "code",
   "execution_count": 64,
   "metadata": {
    "collapsed": false
   },
   "outputs": [
    {
     "data": {
      "text/plain": [
       "u'/home/mikhail/Projects/vdjstruct/app/src/main/python'"
      ]
     },
     "execution_count": 64,
     "metadata": {},
     "output_type": "execute_result"
    }
   ],
   "source": [
    "pwd"
   ]
  },
  {
   "cell_type": "code",
   "execution_count": null,
   "metadata": {
    "collapsed": true
   },
   "outputs": [],
   "source": []
  }
 ],
 "metadata": {
  "kernelspec": {
   "display_name": "Python 2",
   "language": "python",
   "name": "python2"
  },
  "language_info": {
   "codemirror_mode": {
    "name": "ipython",
    "version": 2
   },
   "file_extension": ".py",
   "mimetype": "text/x-python",
   "name": "python",
   "nbconvert_exporter": "python",
   "pygments_lexer": "ipython2",
   "version": "2.7.10"
  }
 },
 "nbformat": 4,
 "nbformat_minor": 0
}
